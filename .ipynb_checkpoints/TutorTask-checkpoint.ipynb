{
 "cells": [
  {
   "cell_type": "markdown",
   "id": "37fc865d-6e80-4edf-96d8-e0eb00e69572",
   "metadata": {},
   "source": [
    "# AI Tutor Task\n",
    "Caroline Cummings\n",
    "\n",
    "October 21, 2025"
   ]
  },
  {
   "cell_type": "markdown",
   "id": "87f0fddc-027f-4d22-a756-6cfa09db32ef",
   "metadata": {},
   "source": [
    "## Knowledge or Skill\n",
    "\n",
    "Create two transcripts of learning a new skill. One with a Vanilla LLM and one with the Mollick LLM prompt. \n",
    "\n",
    "I chose my skill to be Scratch coding with the blocks and pretending to be a 4th grader."
   ]
  },
  {
   "cell_type": "markdown",
   "id": "b1bbdb55-8cae-4843-902c-acf0e4202176",
   "metadata": {},
   "source": [
    "## Evaluate the Two Sessions \n",
    "\n",
    "\n",
    "**Subjective experience of being tutored in both sessions**\n",
    "\n",
    "In the first session, the tone was very friendly but the pacing seemed very fast. Each of the responses were very long. It felt very instructor-driven rather than conversational like most tutoring. It had a lot of commands on what to do and not very many knowledge checks or engaging questions. \n",
    "\n",
    "The second session introduces a more personalized and dialogic atmosphere, beginning with questions about my goals and adjusting explanations to match a 4th-grade level.\n",
    "\n",
    "Both experiences foster confidence and patience, but the second model is more sensitive to the learner’s emotions, responding empathetically to boredom or fatigue with permission for breaks or gentle redirection. Overall, both create a psychologically safe environment and provide clear structure, but differ in interactivity—the first emphasizes task completion.\n",
    "\n",
    "**Observations on particular wording in the responses from the LLMs in both sessions and how well they represent appropriate tutoring communication.**\n",
    "\n",
    "Both LLMs display clear, age-appropriate explanations and use positive, reinforcing language to maintain engagement. In the first session, the tutor’s wording is highly structured, with consistent encouragement (“Perfect!” “That’s exactly what was supposed to happen!”) and simple analogies (“Hat Block,” “Coders are lazy—in a good way”). Its communication is warm and clear but more instructional than conversational. The second session, however, shows greater adaptability and empathy—acknowledging confusion or boredom (“I completely understand!”) and validating emotions before re-engaging the learner. Its use of inclusive language (“we’re going to build this together”) and phrasing such as (“I have high expectations for you”) creates a collaborative and encouraging tone. Both tutors deal with misunderstandings by praising reasoning before correction, but the second employs more motivational and affective wording, adjusting to the  mindset. While both demonstrate appropriate tutoring communication, the second session better models emotional intelligence and individualized feedback.\n",
    "\n",
    "\n",
    "### Overall Comparison\n",
    "\n",
    "Both sessions represent effective AI tutoring but emphasize different dimensions of communication. The first excels in clarity, structure, and procedural guidance, providing a smooth learning path for beginners through repetition and clear sequencing. The second adds a humanistic, relational layer, building rapport and adjusting tone dynamically to sustain engagement. While the first models efficient instructional design, the second captures the empathic responsiveness** and adaptive pacing of an ideal tutor. Together, they illustrate complementary strengths: one focused on cognitive scaffolding, the other on emotional scaffolding—showing that effective tutoring communication integrates both precision and empathy for a complete, learner-centered experience.\n",
    "\n"
   ]
  },
  {
   "cell_type": "code",
   "execution_count": null,
   "id": "8e35b36c-190f-41ae-a449-8b8c5008444e",
   "metadata": {},
   "outputs": [],
   "source": []
  }
 ],
 "metadata": {
  "kernelspec": {
   "display_name": "Python 3-12 (COMM4190)",
   "language": "python",
   "name": "python3-12_comm4190"
  },
  "language_info": {
   "codemirror_mode": {
    "name": "ipython",
    "version": 3
   },
   "file_extension": ".py",
   "mimetype": "text/x-python",
   "name": "python",
   "nbconvert_exporter": "python",
   "pygments_lexer": "ipython3",
   "version": "3.12.11"
  }
 },
 "nbformat": 4,
 "nbformat_minor": 5
}
